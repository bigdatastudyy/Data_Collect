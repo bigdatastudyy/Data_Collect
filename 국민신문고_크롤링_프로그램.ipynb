{
 "cells": [
  {
   "cell_type": "code",
   "execution_count": 149,
   "metadata": {},
   "outputs": [],
   "source": [
    "from selenium import webdriver\n",
    "import requests\n",
    "import time\n",
    "import re\n",
    "from bs4 import BeautifulSoup\n",
    "import pickle"
   ]
  },
  {
   "cell_type": "code",
   "execution_count": null,
   "metadata": {},
   "outputs": [],
   "source": [
    "# selenium version\n",
    "def parse_content():\n",
    "    '''글에 있는 내용을 스크래핑하는 함수\n",
    "    \n",
    "    output: title, date, question, answer, office를 저장한 딕셔너리'''\n",
    "    \n",
    "    return {\"title\":driver.find_elements_by_css_selector(\"#Form th.tit\")[0].text,\n",
    "            \"date\":driver.find_elements_by_css_selector(\"#Form .date\")[0].text,\n",
    "            \"question\":driver.find_elements_by_css_selector(\".questionDiv tbody div\")[0].text,\n",
    "            \"answer\":driver.find_elements_by_css_selector(\".answerTxt\")[0].text,\n",
    "            \"office\":driver.find_elements_by_css_selector(\".civilPart .pl10\")[0].text}"
   ]
  },
  {
   "cell_type": "code",
   "execution_count": null,
   "metadata": {},
   "outputs": [],
   "source": [
    "# selenium version\n",
    "if __name__ == \"__main__\":\n",
    "    driver = webdriver.Chrome()\n",
    "    driver.get(\"https://www.epeople.go.kr/jsp/user/pc/policy/uPcOpenCivilList.paid\")\n",
    "\n",
    "    contents = []\n",
    "    postList = []\n",
    "\n",
    "    i = 1\n",
    "\n",
    "    try:\n",
    "        while True:\n",
    "            # 해당 페이지로 이동하는 자바스크립트 함수를 실행한다.\n",
    "            driver.execute_script(\"javascript:gotoPage({})\".format(i))\n",
    "\n",
    "            # 현재 페이지에서 볼 수 있는 글 목록을 모두 리스트에 저장한다.\n",
    "            temp = [_.get_attribute(\"href\") for _ in driver.find_elements_by_css_selector(\".taL a\")]\n",
    "            postList.extend(temp)\n",
    "\n",
    "            while postList:\n",
    "                # 내용으로 이동한다\n",
    "                driver.execute_script(postList.pop(0))\n",
    "\n",
    "                # 제목, 날짜, 질문내용, 답변내용, 담당부서를 딕셔너리형태로 리스트에 추가한다.\n",
    "                contents.append(parse_content())\n",
    "                # 글 목록으로 돌아간다.\n",
    "                driver.back()\n",
    "\n",
    "            # 다음 페이지로 넘어가도록 i를 증가시킨다.\n",
    "            i += 1\n",
    "            if i % 100 == 0:\n",
    "                print(i)\n",
    "    except:\n",
    "        print(\"crawling finished\")"
   ]
  },
  {
   "cell_type": "code",
   "execution_count": null,
   "metadata": {},
   "outputs": [],
   "source": [
    "headers = {\"user-agent\":\"Mozilla/5.0 (Windows NT 10.0; Win64; x64) AppleWebKit/537.36 (KHTML, like Gecko) Chrome/75.0.3770.100 Safari/537.36\"}\n",
    "\n",
    "def download(method, url, param=None, data=None, timeout=1, maxretries=3):\n",
    "    '''\n",
    "    request 패키지를 이용해서 error handling\n",
    "    '''\n",
    "    try:\n",
    "        resp = requests.request(method, url,params=param, data=data, headers=headers)\n",
    "        resp.raise_for_status()\n",
    "    except requests.exceptions.HTTPError as e:\n",
    "        if 500 <= e.response.status_code < 600 and maxretries > 0:\n",
    "            print(maxretries)\n",
    "            time.sleep(timeout)\n",
    "            download(method, url, param, data, timeout, maxretries-1)\n",
    "        else:\n",
    "            print(e.response.status_code)\n",
    "            print(e.response.reason)\n",
    "    return resp"
   ]
  },
  {
   "cell_type": "code",
   "execution_count": 145,
   "metadata": {},
   "outputs": [],
   "source": [
    "# BeautifulSoup version\n",
    "def get_href():\n",
    "    ''' 국민신문고 민원 목록 페이지에서 글로 가는 링크를 찾아오는 함수\n",
    "    \n",
    "    input:\n",
    "        \n",
    "    \n",
    "    output:\n",
    "        links: 글로 가는 링크(href)를 담은 리스트 \n",
    "    '''\n",
    "    \n",
    "    page_url = \"https://www.epeople.go.kr/jsp/user/pc/policy/uPcOpenCivilList.paid\"\n",
    "    page_param = {\"pageNum\":1}\n",
    "    links = []\n",
    "    \n",
    "    try:\n",
    "        while True:\n",
    "            # 민원 목록 페이지를 html로 parsing\n",
    "            html = download(\"get\", page_url, page_param)\n",
    "            dom = BeautifulSoup(html.text)\n",
    "\n",
    "            # 글로 가는 링크를 리스트에 넣는다.\n",
    "            links.extend([_[\"href\"] for _ in dom.select(\"#pForm .taL a\")])\n",
    "\n",
    "            # 1000 page마다 표시\n",
    "            if page_param[\"pageNum\"] % 1000 == 0:\n",
    "                print(\"page: \", page_param[\"pageNum\"])\n",
    "\n",
    "            # 다음 페이지로 넘어간다.\n",
    "            page_param[\"pageNum\"] += 1\n",
    "            \n",
    "    except:\n",
    "        print(\"finished\")\n",
    "        \n",
    "    return links"
   ]
  },
  {
   "cell_type": "code",
   "execution_count": 144,
   "metadata": {},
   "outputs": [
    {
     "data": {
      "text/plain": [
       "100"
      ]
     },
     "execution_count": 144,
     "metadata": {},
     "output_type": "execute_result"
    }
   ],
   "source": [
    "# BeautifulSoup version\n",
    "def parse_content(url, params):\n",
    "    ''' url과 params를 받아서 해당 글에 있는 민원 정보를 받아오는 함수\n",
    "    \n",
    "    input:\n",
    "        url:\n",
    "        params:\n",
    "        \n",
    "    output:\n",
    "        딕셔너리: title, date, question, answer, office가 저장돼 있다. \n",
    "    '''\n",
    "    \n",
    "    # 해당 글에 있는 html을 parsing\n",
    "    html = download(\"get\", url, params)\n",
    "    dom = BeautifulSoup(html.text)\n",
    "    \n",
    "    return {\"title\":dom.select_one(\"#Form th.tit\").text,\n",
    "            \"date\":dom.select_one(\"#Form .date\").text,\n",
    "            \"question\":dom.select_one(\".questionDiv tbody div\").text,\n",
    "            \"answer\":dom.select_one(\".answerTxt\").text,\n",
    "            \"office\":dom.select_one(\".civilPart .pl10\").text}"
   ]
  },
  {
   "cell_type": "code",
   "execution_count": null,
   "metadata": {},
   "outputs": [],
   "source": [
    "# 글 link 목록 생성\n",
    "hrefs = get_href()\n",
    "\n",
    "contentURL = \"https://www.epeople.go.kr/jsp/user/pc/policy/UPcUnionPolicyDetail.paid\"\n",
    "params = {\n",
    "    \"sdetail\":\"1\",\n",
    "    \"strFlag\":\"\",\n",
    "    \"strArea\":\"\",\n",
    "    \"strBody\":\"\",\n",
    "    \"cat_name\":\"\",\n",
    "    \"strFrom_ex\":\"\",\n",
    "    \"strTo_ex\":\"\",\n",
    "    \"pageNum\":\"\",\n",
    "    \"s_anc_c\":\"\",\n",
    "    \"flag\":\"3\",\n",
    "    \"faq_no_n\":None,\n",
    "    \"civil_no_c\":\"\",\n",
    "    \"peti_no_c\":\"\",\n",
    "    \"strFrom\":\"\",\n",
    "    \"strTo\":\"\",\n",
    "    \"so_gubun1\":\"\",\n",
    "    \"so_gubun2\":\"\",\n",
    "    \"so_gubun3\":\"\",\n",
    "    \"so_gubun4\":\"\",\n",
    "    \"search_gubun1\":\"\",\n",
    "    \"search_gubun2\":\"\",\n",
    "    \"search_gubun3\":\"\",\n",
    "    \"so_recom\":\"\",\n",
    "    \"so_recom_Subanc\":\"\",\n",
    "    \"show_sele\":\"10\"}\n",
    "\n",
    "contents = []\n",
    "\n",
    "# 글 상세 페이지에 접근해서 필요한 정보 scraping\n",
    "while hrefs:\n",
    "    params[\"faq_no_n\"] = re.findall(r\"[\\d]+\", hrefs.pop(0))[1]\n",
    "    \n",
    "    contents.append(parse_content(contentURL, params))"
   ]
  },
  {
   "cell_type": "code",
   "execution_count": 150,
   "metadata": {},
   "outputs": [],
   "source": [
    "with open(\"hrefs.pickle\", \"wb\") as f:\n",
    "    pickle.dump(hrefs, f)"
   ]
  },
  {
   "cell_type": "code",
   "execution_count": null,
   "metadata": {},
   "outputs": [],
   "source": []
  }
 ],
 "metadata": {
  "kernelspec": {
   "display_name": "Python 3",
   "language": "python",
   "name": "python3"
  },
  "language_info": {
   "codemirror_mode": {
    "name": "ipython",
    "version": 3
   },
   "file_extension": ".py",
   "mimetype": "text/x-python",
   "name": "python",
   "nbconvert_exporter": "python",
   "pygments_lexer": "ipython3",
   "version": "3.6.8"
  }
 },
 "nbformat": 4,
 "nbformat_minor": 2
}
