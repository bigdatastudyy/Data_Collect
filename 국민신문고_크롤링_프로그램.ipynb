{
 "cells": [
  {
   "cell_type": "code",
   "execution_count": 1,
   "metadata": {},
   "outputs": [],
   "source": [
    "from selenium import webdriver"
   ]
  },
  {
   "cell_type": "code",
   "execution_count": 2,
   "metadata": {},
   "outputs": [],
   "source": [
    "driver = webdriver.Chrome()"
   ]
  },
  {
   "cell_type": "code",
   "execution_count": 3,
   "metadata": {},
   "outputs": [],
   "source": [
    "def parse_content():\n",
    "    '''글에 있는 내용을 스크래핑하는 함수\n",
    "    \n",
    "    output: title, date, question, answer, office를 저장한 딕셔너리'''\n",
    "    \n",
    "    return {\"title\":driver.find_elements_by_css_selector(\"#Form th.tit\")[0].text,\n",
    "            \"date\":driver.find_elements_by_css_selector(\"#Form .date\")[0].text,\n",
    "            \"question\":driver.find_elements_by_css_selector(\".questionDiv tbody div\")[0].text,\n",
    "            \"answer\":driver.find_elements_by_css_selector(\".answerTxt\")[0].text,\n",
    "            \"office\":driver.find_elements_by_css_selector(\".civilPart .pl10\")[0].text}"
   ]
  },
  {
   "cell_type": "code",
   "execution_count": 6,
   "metadata": {},
   "outputs": [
    {
     "name": "stdout",
     "output_type": "stream",
     "text": [
      "crawling finished\n"
     ]
    }
   ],
   "source": [
    "driver.get(\"https://www.epeople.go.kr/jsp/user/pc/policy/uPcOpenCivilList.paid\")\n",
    "\n",
    "contents = []\n",
    "postList = []\n",
    "\n",
    "i = 1\n",
    "\n",
    "try:\n",
    "    while True:\n",
    "        # 해당 페이지로 이동하는 자바스크립트 함수를 실행한다.\n",
    "        driver.execute_script(\"javascript:gotoPage({})\".format(i))\n",
    "\n",
    "        # 현재 페이지에서 볼 수 있는 글 목록을 모두 리스트에 저장한다.\n",
    "        temp = [_.get_attribute(\"href\") for _ in driver.find_elements_by_css_selector(\".taL a\")]\n",
    "        postList.extend(temp)\n",
    "\n",
    "        while postList:\n",
    "            # 내용으로 이동한다\n",
    "            driver.execute_script(postList.pop(0))\n",
    "\n",
    "            # 제목, 날짜, 질문내용, 답변내용, 담당부서를 딕셔너리형태로 리스트에 추가한다.\n",
    "            contents.append(parse_content())\n",
    "            # 글 목록으로 돌아간다.\n",
    "            driver.back()\n",
    "            \n",
    "        # 다음 페이지로 넘어가도록 i를 증가시킨다.\n",
    "        i += 1\n",
    "        if i % 100 == 0:\n",
    "            print(i)\n",
    "except:\n",
    "    print(\"crawling finished\")"
   ]
  },
  {
   "cell_type": "code",
   "execution_count": 7,
   "metadata": {},
   "outputs": [
    {
     "data": {
      "text/plain": [
       "457"
      ]
     },
     "execution_count": 7,
     "metadata": {},
     "output_type": "execute_result"
    }
   ],
   "source": [
    "len(contents)"
   ]
  },
  {
   "cell_type": "code",
   "execution_count": null,
   "metadata": {},
   "outputs": [],
   "source": []
  }
 ],
 "metadata": {
  "kernelspec": {
   "display_name": "Python 3",
   "language": "python",
   "name": "python3"
  },
  "language_info": {
   "codemirror_mode": {
    "name": "ipython",
    "version": 3
   },
   "file_extension": ".py",
   "mimetype": "text/x-python",
   "name": "python",
   "nbconvert_exporter": "python",
   "pygments_lexer": "ipython3",
   "version": "3.6.8"
  }
 },
 "nbformat": 4,
 "nbformat_minor": 2
}
